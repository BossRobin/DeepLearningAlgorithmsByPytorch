{
  "nbformat": 4,
  "nbformat_minor": 0,
  "metadata": {
    "colab": {
      "name": "CNNbyPytorch.ipynb",
      "provenance": [],
      "authorship_tag": "ABX9TyNAeK1FCP2oCkQpEaRInkFX",
      "include_colab_link": true
    },
    "kernelspec": {
      "name": "python3",
      "display_name": "Python 3"
    },
    "accelerator": "GPU"
  },
  "cells": [
    {
      "cell_type": "markdown",
      "metadata": {
        "id": "view-in-github",
        "colab_type": "text"
      },
      "source": [
        "<a href=\"https://colab.research.google.com/github/BossRobin/DeepLearningAlgorithmsByPytorch/blob/master/CNN.ipynb\" target=\"_parent\"><img src=\"https://colab.research.google.com/assets/colab-badge.svg\" alt=\"Open In Colab\"/></a>"
      ]
    },
    {
      "cell_type": "code",
      "metadata": {
        "id": "v1RcVbo9VO63",
        "colab_type": "code",
        "colab": {}
      },
      "source": [
        "import torch\n",
        "import torch.nn as nn\n",
        "import torchvision\n",
        "import torchvision.transforms as transforms"
      ],
      "execution_count": 0,
      "outputs": []
    },
    {
      "cell_type": "code",
      "metadata": {
        "id": "vzqaNxGRVdXe",
        "colab_type": "code",
        "colab": {}
      },
      "source": [
        "device = torch.device('cuda:0' if torch.cuda.is_available() else 'cpu')"
      ],
      "execution_count": 0,
      "outputs": []
    },
    {
      "cell_type": "code",
      "metadata": {
        "id": "4skRqf25VkN0",
        "colab_type": "code",
        "colab": {}
      },
      "source": [
        "num_epochs = 5\n",
        "num_classes = 10\n",
        "batch_size = 100\n",
        "learning_rate = 0.001"
      ],
      "execution_count": 0,
      "outputs": []
    },
    {
      "cell_type": "code",
      "metadata": {
        "id": "stX8-BXzVu-q",
        "colab_type": "code",
        "colab": {}
      },
      "source": [
        "train_dataset = torchvision.datasets.MNIST(root='./data', transform=transforms.ToTensor(), train=True, download=True)\n",
        "test_dataset = torchvision.datasets.MNIST(root='./data', train=False, transform=transforms.ToTensor())\n",
        "\n",
        "train_loader = torch.utils.data.DataLoader(dataset=train_dataset, batch_size=batch_size, shuffle=True)\n",
        "test_loader = torch.utils.data.DataLoader(dataset=test_dataset, batch_size=batch_size, shuffle=False)"
      ],
      "execution_count": 0,
      "outputs": []
    },
    {
      "cell_type": "code",
      "metadata": {
        "id": "_qMemwV8WqS7",
        "colab_type": "code",
        "colab": {}
      },
      "source": [
        "'''\n",
        "nn.Conv2d(self, in_channels, out_channels, kernel_size, stride=1, padding=0, dilation=1, groups=1, bias=True))\n",
        "参数：\n",
        "  in_channel:　输入数据的通道数，例RGB图片通道数为3；\n",
        "  out_channel: 输出数据的通道数，这个根据模型调整；\n",
        "  kennel_size: 卷积核大小，可以是int，或tuple；kennel_size=2,意味着卷积大小(2,2)， kennel_size=（2,3），意味着卷积大小（2，3）即非正方形卷积\n",
        "  stride：步长，默认为1，与kennel_size类似，stride=2,意味着步长上下左右扫描皆为2， stride=（2,3），左右扫描步长为2，上下为3；\n",
        "  padding：　零填充\n",
        "BatchNorm2d()内部的参数如下：\n",
        "  1.num_features：一般输入参数为batch_size*num_features*height*width，即为其中特征的数量\n",
        "  2.eps：分母中添加的一个值，目的是为了计算的稳定性，默认为：1e-5\n",
        "  3.momentum：一个用于运行过程中均值和方差的一个估计参数（我的理解是一个稳定系数，类似于SGD中的momentum的系数）\n",
        "  4.affine：当设为true时，会给定可以学习的系数矩阵gamma和beta\n",
        "class torch.nn.MaxPool2d(kernel_size, stride=None, padding=0, dilation=1, return_indices=False, ceil_mode=False)\n",
        "参数：\n",
        "  kernel_size(int or tuple) - max pooling的窗口大小，\n",
        "  stride(int or tuple, optional) - max pooling的窗口移动的步长。默认值是kernel_size\n",
        "  padding(int or tuple, optional) - 输入的每一条边补充0的层数\n",
        "  dilation(int or tuple, optional) – 一个控制窗口中元素步幅的参数\n",
        "  return_indices - 如果等于True，会返回输出最大值的序号，对于上采样操作会有帮助\n",
        "  ceil_mode - 如果等于True，计算输出信号大小的时候，会使用向上取整，代替默认的向下取整的操作\n",
        "'''\n",
        "class ConvNet(nn.Module):\n",
        "  def __init__(self, num_classes=10):\n",
        "    super(ConvNet, self).__init__()\n",
        "    # Sequential是一个有序的容器，神经网络模块将按照在传入构造器的顺序依次被添加到计算图中执行，同时以神经网络模块为元素的有序字典也可以作为传入参数。\n",
        "    self.layer1 = nn.Sequential( \n",
        "        # 二维卷积可以处理二维数据，\n",
        "        nn.Conv2d(1, 16, kernel_size=5, stride=1, padding=2), \n",
        "        # 在卷积神经网络的卷积层之后总会添加BatchNorm2d进行数据的归一化处理，这使得数据在进行Relu之前不会因为数据过大而导致网络性能的不稳定\n",
        "        nn.BatchNorm2d(16),\n",
        "        nn.ReLU(),\n",
        "        nn.MaxPool2d(kernel_size=2, stride=2)\n",
        "    )\n",
        "    self.layer2 = nn.Sequential(\n",
        "        nn.Conv2d(16, 32, kernel_size=5, stride=1, padding=2),\n",
        "        nn.BatchNorm2d(32),\n",
        "        nn.ReLU(),\n",
        "        nn.MaxPool2d(kernel_size=2, stride=2)\n",
        "    )\n",
        "    self.fc = nn.Linear(7*7*32, num_classes)\n",
        "  \n",
        "  def forward(self, x):\n",
        "    out = self.layer1(x)\n",
        "    out = self.layer2(out)\n",
        "    out = out.reshape(out.size(0), -1) # 因为out的size是(100, 32, 7, 7),所以需要将out转换为(100, 7*7*32)以输入至全连接网络中\n",
        "    out = self.fc(out)\n",
        "    return out\n"
      ],
      "execution_count": 0,
      "outputs": []
    },
    {
      "cell_type": "code",
      "metadata": {
        "id": "fPuG9T4NYSDx",
        "colab_type": "code",
        "colab": {}
      },
      "source": [
        "model = ConvNet(num_classes).to(device)"
      ],
      "execution_count": 0,
      "outputs": []
    },
    {
      "cell_type": "code",
      "metadata": {
        "id": "uql2KHqqZa7a",
        "colab_type": "code",
        "colab": {}
      },
      "source": [
        "criterion = nn.CrossEntropyLoss()\n",
        "optimizer = torch.optim.Adam(model.parameters(), lr=learning_rate)"
      ],
      "execution_count": 0,
      "outputs": []
    },
    {
      "cell_type": "code",
      "metadata": {
        "id": "SZECMIlWYl54",
        "colab_type": "code",
        "colab": {}
      },
      "source": [
        "total_step = len(train_loader)\n",
        "for epoch in range(num_epochs):\n",
        "  for i, (images, labels) in enumerate(train_loader):\n",
        "    images = images.to(device)\n",
        "    labels = labels.to(device)\n",
        "    outputs = model(images) # 和lstm不同，cnn直接输入图像即可，无须转换\n",
        "    loss = criterion(outputs, labels)\n",
        "\n",
        "    optimizer.zero_grad()\n",
        "    loss.backward()\n",
        "    optimizer.step()\n",
        "\n",
        "    if (i+1) % 100 == 0:\n",
        "      print('Epoch [{}/{}], Step [{}/{}], Loss: {:.4f}'.format(epoch+1, num_epochs, i+1, total_step, loss.item()))"
      ],
      "execution_count": 0,
      "outputs": []
    },
    {
      "cell_type": "code",
      "metadata": {
        "id": "XK9pS7GHbWnz",
        "colab_type": "code",
        "colab": {}
      },
      "source": [
        "'''\n",
        "model的eval方法主要是针对某些在train和predict两个阶段会有不同参数的层。\n",
        "比如Dropout层和BN层Dropout在train时随机选择神经元而predict要使用全部神\n",
        "经元并且要乘一个补偿系数BN在train时每个batch做了不同的归一化因此也对应\n",
        "了不同的参数，相应predict时实际用的参数是每个batch下参数的移动平均。\n",
        "torch为了方便大家，设计这个eval方法就是让我们可以不用手动去针对这些层\n",
        "做predict阶段的处理(也可以叫evaluation阶段,所以这个方法名才是eval)\n",
        "这也就是说，如果模型中用了dropout或bn，那么predict时必须使用eval \n",
        "否则结果是没有参考价值的，不存在选择的余地。\n",
        "\n",
        "作者：蔺笑天\n",
        "链接：https://www.zhihu.com/question/363144860/answer/951669576\n",
        "来源：知乎\n",
        "著作权归作者所有。商业转载请联系作者获得授权，非商业转载请注明出处。\n",
        "'''\n",
        "model.eval()  # eval mode (batchnorm uses moving mean/variance instead of mini-batch mean/variance)\n",
        "with torch.no_grad():\n",
        "  correct = 0\n",
        "  total = 0\n",
        "  for images, labels in test_loader:\n",
        "      images = images.to(device)\n",
        "      labels = labels.to(device)\n",
        "      outputs = model(images)\n",
        "      _, predicted = torch.max(outputs.data, 1)\n",
        "      total += labels.size(0)\n",
        "      correct += (predicted == labels).sum().item()\n",
        "\n",
        "  print('Test Accuracy of the model on the 10000 test images: {} %'.format(100 * correct / total))\n",
        "\n",
        "# Save the model checkpoint\n",
        "torch.save(model.state_dict(), 'model.ckpt')"
      ],
      "execution_count": 0,
      "outputs": []
    },
    {
      "cell_type": "code",
      "metadata": {
        "id": "e8yrHjTacJD6",
        "colab_type": "code",
        "colab": {}
      },
      "source": [
        ""
      ],
      "execution_count": 0,
      "outputs": []
    }
  ]
}